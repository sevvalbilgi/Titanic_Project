{
  "nbformat": 4,
  "nbformat_minor": 0,
  "metadata": {
    "colab": {
      "provenance": [],
      "authorship_tag": "ABX9TyPLwagPRFAFejW9FWAyt19B",
      "include_colab_link": true
    },
    "kernelspec": {
      "name": "python3",
      "display_name": "Python 3"
    },
    "language_info": {
      "name": "python"
    }
  },
  "cells": [
    {
      "cell_type": "markdown",
      "metadata": {
        "id": "view-in-github",
        "colab_type": "text"
      },
      "source": [
        "<a href=\"https://colab.research.google.com/github/sevvalbilgi/Titanic_Project/blob/main/titanic2.ipynb\" target=\"_parent\"><img src=\"https://colab.research.google.com/assets/colab-badge.svg\" alt=\"Open In Colab\"/></a>"
      ]
    },
    {
      "cell_type": "code",
      "execution_count": null,
      "metadata": {
        "colab": {
          "base_uri": "https://localhost:8080/"
        },
        "id": "RYDhUFajrE9j",
        "outputId": "3550eecc-536a-483d-b0a9-fd1c1162fd71"
      },
      "outputs": [
        {
          "output_type": "stream",
          "name": "stdout",
          "text": [
            "What is your age? 15\n",
            "What is your gender? (female:0/male:1) 0\n",
            "Based on the provided information, the estimated probability of survival is: 90.99%\n"
          ]
        }
      ],
      "source": [
        "import pandas as pd\n",
        "from sklearn.model_selection import train_test_split\n",
        "from sklearn.naive_bayes import GaussianNB\n",
        "\n",
        "# Ask user for information\n",
        "age = float(input(\"What is your age? \"))\n",
        "sex = input(\"What is your gender? (female:0/male:1) \")\n",
        "\n",
        "# Create a dictionary with user information including placeholder values for 'Fare' and 'Pclass'\n",
        "user_data = {'Age': [age], 'Sex': [sex], 'Fare': [0.0], 'Pclass': [1]}\n",
        "\n",
        "# Create a DataFrame with user information\n",
        "user_df = pd.DataFrame(user_data)\n",
        "\n",
        "# Load the Titanic dataset\n",
        "titanic = pd.read_csv(\"/content/titanic.csv\")\n",
        "\n",
        "# Drop unnecessary columns\n",
        "titanic.drop(['PassengerId', 'Name', 'SibSp', 'Parch', 'Ticket', 'Cabin', 'Embarked'], axis='columns', inplace=True)\n",
        "\n",
        "# Convert 'Sex' column to numerical values\n",
        "titanic['Sex'].replace({'female': 0, 'male': 1}, inplace=True)\n",
        "\n",
        "# Fill missing values in the 'Age' column with the mean\n",
        "titanic['Age'] = titanic['Age'].fillna(titanic['Age'].mean())\n",
        "\n",
        "# Prepare predictors and target\n",
        "predictors = titanic.drop('Survived', axis='columns')\n",
        "target = titanic['Survived']\n",
        "\n",
        "# Train-test split\n",
        "x_train, x_test, y_train, y_test = train_test_split(predictors, target, test_size=0.25)\n",
        "\n",
        "# Train the model\n",
        "model = GaussianNB()\n",
        "model.fit(x_train, y_train)\n",
        "\n",
        "# Ensure the order of columns in user_df matches the order used for training\n",
        "user_df = user_df[predictors.columns]\n",
        "\n",
        "# Predict the survival probability for the user\n",
        "user_survival_probability = model.predict_proba(user_df)[:, 1]\n",
        "\n",
        "print(f\"Based on the provided information, the estimated probability of survival is: {user_survival_probability[0]:.2%}\")"
      ]
    }
  ]
}