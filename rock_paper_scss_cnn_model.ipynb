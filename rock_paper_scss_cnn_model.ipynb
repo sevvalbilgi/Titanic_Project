{
  "nbformat": 4,
  "nbformat_minor": 0,
  "metadata": {
    "colab": {
      "provenance": [],
      "mount_file_id": "1PExNutJRSWHvsCIcrKt5bNNyQCE9fDGs",
      "authorship_tag": "ABX9TyORhWGsqqFJcp43IgWgoFPA",
      "include_colab_link": true
    },
    "kernelspec": {
      "name": "python3",
      "display_name": "Python 3"
    },
    "language_info": {
      "name": "python"
    },
    "widgets": {
      "application/vnd.jupyter.widget-state+json": {
        "be1c267c1d25421d9f1e020a6f12cef9": {
          "model_module": "@jupyter-widgets/controls",
          "model_name": "HBoxModel",
          "model_module_version": "1.5.0",
          "state": {
            "_dom_classes": [],
            "_model_module": "@jupyter-widgets/controls",
            "_model_module_version": "1.5.0",
            "_model_name": "HBoxModel",
            "_view_count": null,
            "_view_module": "@jupyter-widgets/controls",
            "_view_module_version": "1.5.0",
            "_view_name": "HBoxView",
            "box_style": "",
            "children": [
              "IPY_MODEL_090ae1af2533405d83080ac86af94235",
              "IPY_MODEL_520e612397de4ecc93e6a9d9f1d439d4",
              "IPY_MODEL_18526c2b74ae43cfb7e2767d117f2338"
            ],
            "layout": "IPY_MODEL_48cda2a16b92477a895242c418629815"
          }
        },
        "090ae1af2533405d83080ac86af94235": {
          "model_module": "@jupyter-widgets/controls",
          "model_name": "HTMLModel",
          "model_module_version": "1.5.0",
          "state": {
            "_dom_classes": [],
            "_model_module": "@jupyter-widgets/controls",
            "_model_module_version": "1.5.0",
            "_model_name": "HTMLModel",
            "_view_count": null,
            "_view_module": "@jupyter-widgets/controls",
            "_view_module_version": "1.5.0",
            "_view_name": "HTMLView",
            "description": "",
            "description_tooltip": null,
            "layout": "IPY_MODEL_e57c1b84bebc4d07a760c6ff06a05dbc",
            "placeholder": "​",
            "style": "IPY_MODEL_0e2f5198b6b943f199b4e8fa988567d7",
            "value": "100%"
          }
        },
        "520e612397de4ecc93e6a9d9f1d439d4": {
          "model_module": "@jupyter-widgets/controls",
          "model_name": "FloatProgressModel",
          "model_module_version": "1.5.0",
          "state": {
            "_dom_classes": [],
            "_model_module": "@jupyter-widgets/controls",
            "_model_module_version": "1.5.0",
            "_model_name": "FloatProgressModel",
            "_view_count": null,
            "_view_module": "@jupyter-widgets/controls",
            "_view_module_version": "1.5.0",
            "_view_name": "ProgressView",
            "bar_style": "success",
            "description": "",
            "description_tooltip": null,
            "layout": "IPY_MODEL_8a3687b370604385a8bb3698a70e173b",
            "max": 100,
            "min": 0,
            "orientation": "horizontal",
            "style": "IPY_MODEL_0fba5f8137b94c218483284acd5a1482",
            "value": 100
          }
        },
        "18526c2b74ae43cfb7e2767d117f2338": {
          "model_module": "@jupyter-widgets/controls",
          "model_name": "HTMLModel",
          "model_module_version": "1.5.0",
          "state": {
            "_dom_classes": [],
            "_model_module": "@jupyter-widgets/controls",
            "_model_module_version": "1.5.0",
            "_model_name": "HTMLModel",
            "_view_count": null,
            "_view_module": "@jupyter-widgets/controls",
            "_view_module_version": "1.5.0",
            "_view_name": "HTMLView",
            "description": "",
            "description_tooltip": null,
            "layout": "IPY_MODEL_7c7167f166f54ad681eaf546541a0fd1",
            "placeholder": "​",
            "style": "IPY_MODEL_c094fb65b26d4e5a9f949eb994826653",
            "value": " 100/100 [01:14&lt;00:00,  1.36it/s]"
          }
        },
        "48cda2a16b92477a895242c418629815": {
          "model_module": "@jupyter-widgets/base",
          "model_name": "LayoutModel",
          "model_module_version": "1.2.0",
          "state": {
            "_model_module": "@jupyter-widgets/base",
            "_model_module_version": "1.2.0",
            "_model_name": "LayoutModel",
            "_view_count": null,
            "_view_module": "@jupyter-widgets/base",
            "_view_module_version": "1.2.0",
            "_view_name": "LayoutView",
            "align_content": null,
            "align_items": null,
            "align_self": null,
            "border": null,
            "bottom": null,
            "display": null,
            "flex": null,
            "flex_flow": null,
            "grid_area": null,
            "grid_auto_columns": null,
            "grid_auto_flow": null,
            "grid_auto_rows": null,
            "grid_column": null,
            "grid_gap": null,
            "grid_row": null,
            "grid_template_areas": null,
            "grid_template_columns": null,
            "grid_template_rows": null,
            "height": null,
            "justify_content": null,
            "justify_items": null,
            "left": null,
            "margin": null,
            "max_height": null,
            "max_width": null,
            "min_height": null,
            "min_width": null,
            "object_fit": null,
            "object_position": null,
            "order": null,
            "overflow": null,
            "overflow_x": null,
            "overflow_y": null,
            "padding": null,
            "right": null,
            "top": null,
            "visibility": null,
            "width": null
          }
        },
        "e57c1b84bebc4d07a760c6ff06a05dbc": {
          "model_module": "@jupyter-widgets/base",
          "model_name": "LayoutModel",
          "model_module_version": "1.2.0",
          "state": {
            "_model_module": "@jupyter-widgets/base",
            "_model_module_version": "1.2.0",
            "_model_name": "LayoutModel",
            "_view_count": null,
            "_view_module": "@jupyter-widgets/base",
            "_view_module_version": "1.2.0",
            "_view_name": "LayoutView",
            "align_content": null,
            "align_items": null,
            "align_self": null,
            "border": null,
            "bottom": null,
            "display": null,
            "flex": null,
            "flex_flow": null,
            "grid_area": null,
            "grid_auto_columns": null,
            "grid_auto_flow": null,
            "grid_auto_rows": null,
            "grid_column": null,
            "grid_gap": null,
            "grid_row": null,
            "grid_template_areas": null,
            "grid_template_columns": null,
            "grid_template_rows": null,
            "height": null,
            "justify_content": null,
            "justify_items": null,
            "left": null,
            "margin": null,
            "max_height": null,
            "max_width": null,
            "min_height": null,
            "min_width": null,
            "object_fit": null,
            "object_position": null,
            "order": null,
            "overflow": null,
            "overflow_x": null,
            "overflow_y": null,
            "padding": null,
            "right": null,
            "top": null,
            "visibility": null,
            "width": null
          }
        },
        "0e2f5198b6b943f199b4e8fa988567d7": {
          "model_module": "@jupyter-widgets/controls",
          "model_name": "DescriptionStyleModel",
          "model_module_version": "1.5.0",
          "state": {
            "_model_module": "@jupyter-widgets/controls",
            "_model_module_version": "1.5.0",
            "_model_name": "DescriptionStyleModel",
            "_view_count": null,
            "_view_module": "@jupyter-widgets/base",
            "_view_module_version": "1.2.0",
            "_view_name": "StyleView",
            "description_width": ""
          }
        },
        "8a3687b370604385a8bb3698a70e173b": {
          "model_module": "@jupyter-widgets/base",
          "model_name": "LayoutModel",
          "model_module_version": "1.2.0",
          "state": {
            "_model_module": "@jupyter-widgets/base",
            "_model_module_version": "1.2.0",
            "_model_name": "LayoutModel",
            "_view_count": null,
            "_view_module": "@jupyter-widgets/base",
            "_view_module_version": "1.2.0",
            "_view_name": "LayoutView",
            "align_content": null,
            "align_items": null,
            "align_self": null,
            "border": null,
            "bottom": null,
            "display": null,
            "flex": null,
            "flex_flow": null,
            "grid_area": null,
            "grid_auto_columns": null,
            "grid_auto_flow": null,
            "grid_auto_rows": null,
            "grid_column": null,
            "grid_gap": null,
            "grid_row": null,
            "grid_template_areas": null,
            "grid_template_columns": null,
            "grid_template_rows": null,
            "height": null,
            "justify_content": null,
            "justify_items": null,
            "left": null,
            "margin": null,
            "max_height": null,
            "max_width": null,
            "min_height": null,
            "min_width": null,
            "object_fit": null,
            "object_position": null,
            "order": null,
            "overflow": null,
            "overflow_x": null,
            "overflow_y": null,
            "padding": null,
            "right": null,
            "top": null,
            "visibility": null,
            "width": null
          }
        },
        "0fba5f8137b94c218483284acd5a1482": {
          "model_module": "@jupyter-widgets/controls",
          "model_name": "ProgressStyleModel",
          "model_module_version": "1.5.0",
          "state": {
            "_model_module": "@jupyter-widgets/controls",
            "_model_module_version": "1.5.0",
            "_model_name": "ProgressStyleModel",
            "_view_count": null,
            "_view_module": "@jupyter-widgets/base",
            "_view_module_version": "1.2.0",
            "_view_name": "StyleView",
            "bar_color": null,
            "description_width": ""
          }
        },
        "7c7167f166f54ad681eaf546541a0fd1": {
          "model_module": "@jupyter-widgets/base",
          "model_name": "LayoutModel",
          "model_module_version": "1.2.0",
          "state": {
            "_model_module": "@jupyter-widgets/base",
            "_model_module_version": "1.2.0",
            "_model_name": "LayoutModel",
            "_view_count": null,
            "_view_module": "@jupyter-widgets/base",
            "_view_module_version": "1.2.0",
            "_view_name": "LayoutView",
            "align_content": null,
            "align_items": null,
            "align_self": null,
            "border": null,
            "bottom": null,
            "display": null,
            "flex": null,
            "flex_flow": null,
            "grid_area": null,
            "grid_auto_columns": null,
            "grid_auto_flow": null,
            "grid_auto_rows": null,
            "grid_column": null,
            "grid_gap": null,
            "grid_row": null,
            "grid_template_areas": null,
            "grid_template_columns": null,
            "grid_template_rows": null,
            "height": null,
            "justify_content": null,
            "justify_items": null,
            "left": null,
            "margin": null,
            "max_height": null,
            "max_width": null,
            "min_height": null,
            "min_width": null,
            "object_fit": null,
            "object_position": null,
            "order": null,
            "overflow": null,
            "overflow_x": null,
            "overflow_y": null,
            "padding": null,
            "right": null,
            "top": null,
            "visibility": null,
            "width": null
          }
        },
        "c094fb65b26d4e5a9f949eb994826653": {
          "model_module": "@jupyter-widgets/controls",
          "model_name": "DescriptionStyleModel",
          "model_module_version": "1.5.0",
          "state": {
            "_model_module": "@jupyter-widgets/controls",
            "_model_module_version": "1.5.0",
            "_model_name": "DescriptionStyleModel",
            "_view_count": null,
            "_view_module": "@jupyter-widgets/base",
            "_view_module_version": "1.2.0",
            "_view_name": "StyleView",
            "description_width": ""
          }
        },
        "7774af3733134cb1a8756f607de6bfed": {
          "model_module": "@jupyter-widgets/controls",
          "model_name": "HBoxModel",
          "model_module_version": "1.5.0",
          "state": {
            "_dom_classes": [],
            "_model_module": "@jupyter-widgets/controls",
            "_model_module_version": "1.5.0",
            "_model_name": "HBoxModel",
            "_view_count": null,
            "_view_module": "@jupyter-widgets/controls",
            "_view_module_version": "1.5.0",
            "_view_name": "HBoxView",
            "box_style": "",
            "children": [
              "IPY_MODEL_80004ee72e6d4ccc9683f31cb1128236",
              "IPY_MODEL_b841b5c381c446b4a237aa5493c76eca",
              "IPY_MODEL_27ce866629a84328acf00703f7035e34"
            ],
            "layout": "IPY_MODEL_97068e8e4a534bee9898694dadd356df"
          }
        },
        "80004ee72e6d4ccc9683f31cb1128236": {
          "model_module": "@jupyter-widgets/controls",
          "model_name": "HTMLModel",
          "model_module_version": "1.5.0",
          "state": {
            "_dom_classes": [],
            "_model_module": "@jupyter-widgets/controls",
            "_model_module_version": "1.5.0",
            "_model_name": "HTMLModel",
            "_view_count": null,
            "_view_module": "@jupyter-widgets/controls",
            "_view_module_version": "1.5.0",
            "_view_name": "HTMLView",
            "description": "",
            "description_tooltip": null,
            "layout": "IPY_MODEL_b43307ced3b14cb1bb96beeb9c12e66d",
            "placeholder": "​",
            "style": "IPY_MODEL_1a4780f61347481aa8259ed039da0058",
            "value": "100%"
          }
        },
        "b841b5c381c446b4a237aa5493c76eca": {
          "model_module": "@jupyter-widgets/controls",
          "model_name": "FloatProgressModel",
          "model_module_version": "1.5.0",
          "state": {
            "_dom_classes": [],
            "_model_module": "@jupyter-widgets/controls",
            "_model_module_version": "1.5.0",
            "_model_name": "FloatProgressModel",
            "_view_count": null,
            "_view_module": "@jupyter-widgets/controls",
            "_view_module_version": "1.5.0",
            "_view_name": "ProgressView",
            "bar_style": "success",
            "description": "",
            "description_tooltip": null,
            "layout": "IPY_MODEL_0029c6f54d094bfe86182063ea72700a",
            "max": 100,
            "min": 0,
            "orientation": "horizontal",
            "style": "IPY_MODEL_97d98fc3262a4226a8862ef8e2fd4051",
            "value": 100
          }
        },
        "27ce866629a84328acf00703f7035e34": {
          "model_module": "@jupyter-widgets/controls",
          "model_name": "HTMLModel",
          "model_module_version": "1.5.0",
          "state": {
            "_dom_classes": [],
            "_model_module": "@jupyter-widgets/controls",
            "_model_module_version": "1.5.0",
            "_model_name": "HTMLModel",
            "_view_count": null,
            "_view_module": "@jupyter-widgets/controls",
            "_view_module_version": "1.5.0",
            "_view_name": "HTMLView",
            "description": "",
            "description_tooltip": null,
            "layout": "IPY_MODEL_b2514133694f4078bf547b1419c46c9f",
            "placeholder": "​",
            "style": "IPY_MODEL_fb62e730db384403b1030446351685f2",
            "value": " 100/100 [01:13&lt;00:00,  1.33it/s]"
          }
        },
        "97068e8e4a534bee9898694dadd356df": {
          "model_module": "@jupyter-widgets/base",
          "model_name": "LayoutModel",
          "model_module_version": "1.2.0",
          "state": {
            "_model_module": "@jupyter-widgets/base",
            "_model_module_version": "1.2.0",
            "_model_name": "LayoutModel",
            "_view_count": null,
            "_view_module": "@jupyter-widgets/base",
            "_view_module_version": "1.2.0",
            "_view_name": "LayoutView",
            "align_content": null,
            "align_items": null,
            "align_self": null,
            "border": null,
            "bottom": null,
            "display": null,
            "flex": null,
            "flex_flow": null,
            "grid_area": null,
            "grid_auto_columns": null,
            "grid_auto_flow": null,
            "grid_auto_rows": null,
            "grid_column": null,
            "grid_gap": null,
            "grid_row": null,
            "grid_template_areas": null,
            "grid_template_columns": null,
            "grid_template_rows": null,
            "height": null,
            "justify_content": null,
            "justify_items": null,
            "left": null,
            "margin": null,
            "max_height": null,
            "max_width": null,
            "min_height": null,
            "min_width": null,
            "object_fit": null,
            "object_position": null,
            "order": null,
            "overflow": null,
            "overflow_x": null,
            "overflow_y": null,
            "padding": null,
            "right": null,
            "top": null,
            "visibility": null,
            "width": null
          }
        },
        "b43307ced3b14cb1bb96beeb9c12e66d": {
          "model_module": "@jupyter-widgets/base",
          "model_name": "LayoutModel",
          "model_module_version": "1.2.0",
          "state": {
            "_model_module": "@jupyter-widgets/base",
            "_model_module_version": "1.2.0",
            "_model_name": "LayoutModel",
            "_view_count": null,
            "_view_module": "@jupyter-widgets/base",
            "_view_module_version": "1.2.0",
            "_view_name": "LayoutView",
            "align_content": null,
            "align_items": null,
            "align_self": null,
            "border": null,
            "bottom": null,
            "display": null,
            "flex": null,
            "flex_flow": null,
            "grid_area": null,
            "grid_auto_columns": null,
            "grid_auto_flow": null,
            "grid_auto_rows": null,
            "grid_column": null,
            "grid_gap": null,
            "grid_row": null,
            "grid_template_areas": null,
            "grid_template_columns": null,
            "grid_template_rows": null,
            "height": null,
            "justify_content": null,
            "justify_items": null,
            "left": null,
            "margin": null,
            "max_height": null,
            "max_width": null,
            "min_height": null,
            "min_width": null,
            "object_fit": null,
            "object_position": null,
            "order": null,
            "overflow": null,
            "overflow_x": null,
            "overflow_y": null,
            "padding": null,
            "right": null,
            "top": null,
            "visibility": null,
            "width": null
          }
        },
        "1a4780f61347481aa8259ed039da0058": {
          "model_module": "@jupyter-widgets/controls",
          "model_name": "DescriptionStyleModel",
          "model_module_version": "1.5.0",
          "state": {
            "_model_module": "@jupyter-widgets/controls",
            "_model_module_version": "1.5.0",
            "_model_name": "DescriptionStyleModel",
            "_view_count": null,
            "_view_module": "@jupyter-widgets/base",
            "_view_module_version": "1.2.0",
            "_view_name": "StyleView",
            "description_width": ""
          }
        },
        "0029c6f54d094bfe86182063ea72700a": {
          "model_module": "@jupyter-widgets/base",
          "model_name": "LayoutModel",
          "model_module_version": "1.2.0",
          "state": {
            "_model_module": "@jupyter-widgets/base",
            "_model_module_version": "1.2.0",
            "_model_name": "LayoutModel",
            "_view_count": null,
            "_view_module": "@jupyter-widgets/base",
            "_view_module_version": "1.2.0",
            "_view_name": "LayoutView",
            "align_content": null,
            "align_items": null,
            "align_self": null,
            "border": null,
            "bottom": null,
            "display": null,
            "flex": null,
            "flex_flow": null,
            "grid_area": null,
            "grid_auto_columns": null,
            "grid_auto_flow": null,
            "grid_auto_rows": null,
            "grid_column": null,
            "grid_gap": null,
            "grid_row": null,
            "grid_template_areas": null,
            "grid_template_columns": null,
            "grid_template_rows": null,
            "height": null,
            "justify_content": null,
            "justify_items": null,
            "left": null,
            "margin": null,
            "max_height": null,
            "max_width": null,
            "min_height": null,
            "min_width": null,
            "object_fit": null,
            "object_position": null,
            "order": null,
            "overflow": null,
            "overflow_x": null,
            "overflow_y": null,
            "padding": null,
            "right": null,
            "top": null,
            "visibility": null,
            "width": null
          }
        },
        "97d98fc3262a4226a8862ef8e2fd4051": {
          "model_module": "@jupyter-widgets/controls",
          "model_name": "ProgressStyleModel",
          "model_module_version": "1.5.0",
          "state": {
            "_model_module": "@jupyter-widgets/controls",
            "_model_module_version": "1.5.0",
            "_model_name": "ProgressStyleModel",
            "_view_count": null,
            "_view_module": "@jupyter-widgets/base",
            "_view_module_version": "1.2.0",
            "_view_name": "StyleView",
            "bar_color": null,
            "description_width": ""
          }
        },
        "b2514133694f4078bf547b1419c46c9f": {
          "model_module": "@jupyter-widgets/base",
          "model_name": "LayoutModel",
          "model_module_version": "1.2.0",
          "state": {
            "_model_module": "@jupyter-widgets/base",
            "_model_module_version": "1.2.0",
            "_model_name": "LayoutModel",
            "_view_count": null,
            "_view_module": "@jupyter-widgets/base",
            "_view_module_version": "1.2.0",
            "_view_name": "LayoutView",
            "align_content": null,
            "align_items": null,
            "align_self": null,
            "border": null,
            "bottom": null,
            "display": null,
            "flex": null,
            "flex_flow": null,
            "grid_area": null,
            "grid_auto_columns": null,
            "grid_auto_flow": null,
            "grid_auto_rows": null,
            "grid_column": null,
            "grid_gap": null,
            "grid_row": null,
            "grid_template_areas": null,
            "grid_template_columns": null,
            "grid_template_rows": null,
            "height": null,
            "justify_content": null,
            "justify_items": null,
            "left": null,
            "margin": null,
            "max_height": null,
            "max_width": null,
            "min_height": null,
            "min_width": null,
            "object_fit": null,
            "object_position": null,
            "order": null,
            "overflow": null,
            "overflow_x": null,
            "overflow_y": null,
            "padding": null,
            "right": null,
            "top": null,
            "visibility": null,
            "width": null
          }
        },
        "fb62e730db384403b1030446351685f2": {
          "model_module": "@jupyter-widgets/controls",
          "model_name": "DescriptionStyleModel",
          "model_module_version": "1.5.0",
          "state": {
            "_model_module": "@jupyter-widgets/controls",
            "_model_module_version": "1.5.0",
            "_model_name": "DescriptionStyleModel",
            "_view_count": null,
            "_view_module": "@jupyter-widgets/base",
            "_view_module_version": "1.2.0",
            "_view_name": "StyleView",
            "description_width": ""
          }
        },
        "458074128dd44731bb74b43af4ec87bd": {
          "model_module": "@jupyter-widgets/controls",
          "model_name": "HBoxModel",
          "model_module_version": "1.5.0",
          "state": {
            "_dom_classes": [],
            "_model_module": "@jupyter-widgets/controls",
            "_model_module_version": "1.5.0",
            "_model_name": "HBoxModel",
            "_view_count": null,
            "_view_module": "@jupyter-widgets/controls",
            "_view_module_version": "1.5.0",
            "_view_name": "HBoxView",
            "box_style": "",
            "children": [
              "IPY_MODEL_0dfbcecac0604bea983e5f295f869ffd",
              "IPY_MODEL_6072995a2bc3428aa2807cc1062118dc",
              "IPY_MODEL_d98074fc1a4a40a1a35470754af397f6"
            ],
            "layout": "IPY_MODEL_5894d44590ed4ca690b8e7f99387eec7"
          }
        },
        "0dfbcecac0604bea983e5f295f869ffd": {
          "model_module": "@jupyter-widgets/controls",
          "model_name": "HTMLModel",
          "model_module_version": "1.5.0",
          "state": {
            "_dom_classes": [],
            "_model_module": "@jupyter-widgets/controls",
            "_model_module_version": "1.5.0",
            "_model_name": "HTMLModel",
            "_view_count": null,
            "_view_module": "@jupyter-widgets/controls",
            "_view_module_version": "1.5.0",
            "_view_name": "HTMLView",
            "description": "",
            "description_tooltip": null,
            "layout": "IPY_MODEL_22992122d59241c79b1a5c21beca5277",
            "placeholder": "​",
            "style": "IPY_MODEL_9046ba41e1354656b941f346d097ee24",
            "value": "100%"
          }
        },
        "6072995a2bc3428aa2807cc1062118dc": {
          "model_module": "@jupyter-widgets/controls",
          "model_name": "FloatProgressModel",
          "model_module_version": "1.5.0",
          "state": {
            "_dom_classes": [],
            "_model_module": "@jupyter-widgets/controls",
            "_model_module_version": "1.5.0",
            "_model_name": "FloatProgressModel",
            "_view_count": null,
            "_view_module": "@jupyter-widgets/controls",
            "_view_module_version": "1.5.0",
            "_view_name": "ProgressView",
            "bar_style": "success",
            "description": "",
            "description_tooltip": null,
            "layout": "IPY_MODEL_4173d9a54fbf4c14a80f5b4a0c69a613",
            "max": 100,
            "min": 0,
            "orientation": "horizontal",
            "style": "IPY_MODEL_23d58e6667874c2a98f3228974d04cfa",
            "value": 100
          }
        },
        "d98074fc1a4a40a1a35470754af397f6": {
          "model_module": "@jupyter-widgets/controls",
          "model_name": "HTMLModel",
          "model_module_version": "1.5.0",
          "state": {
            "_dom_classes": [],
            "_model_module": "@jupyter-widgets/controls",
            "_model_module_version": "1.5.0",
            "_model_name": "HTMLModel",
            "_view_count": null,
            "_view_module": "@jupyter-widgets/controls",
            "_view_module_version": "1.5.0",
            "_view_name": "HTMLView",
            "description": "",
            "description_tooltip": null,
            "layout": "IPY_MODEL_ef885e45934145eda22cbb6b1b8515f0",
            "placeholder": "​",
            "style": "IPY_MODEL_de1aafd863804d97a83361736faae524",
            "value": " 100/100 [01:13&lt;00:00,  1.38it/s]"
          }
        },
        "5894d44590ed4ca690b8e7f99387eec7": {
          "model_module": "@jupyter-widgets/base",
          "model_name": "LayoutModel",
          "model_module_version": "1.2.0",
          "state": {
            "_model_module": "@jupyter-widgets/base",
            "_model_module_version": "1.2.0",
            "_model_name": "LayoutModel",
            "_view_count": null,
            "_view_module": "@jupyter-widgets/base",
            "_view_module_version": "1.2.0",
            "_view_name": "LayoutView",
            "align_content": null,
            "align_items": null,
            "align_self": null,
            "border": null,
            "bottom": null,
            "display": null,
            "flex": null,
            "flex_flow": null,
            "grid_area": null,
            "grid_auto_columns": null,
            "grid_auto_flow": null,
            "grid_auto_rows": null,
            "grid_column": null,
            "grid_gap": null,
            "grid_row": null,
            "grid_template_areas": null,
            "grid_template_columns": null,
            "grid_template_rows": null,
            "height": null,
            "justify_content": null,
            "justify_items": null,
            "left": null,
            "margin": null,
            "max_height": null,
            "max_width": null,
            "min_height": null,
            "min_width": null,
            "object_fit": null,
            "object_position": null,
            "order": null,
            "overflow": null,
            "overflow_x": null,
            "overflow_y": null,
            "padding": null,
            "right": null,
            "top": null,
            "visibility": null,
            "width": null
          }
        },
        "22992122d59241c79b1a5c21beca5277": {
          "model_module": "@jupyter-widgets/base",
          "model_name": "LayoutModel",
          "model_module_version": "1.2.0",
          "state": {
            "_model_module": "@jupyter-widgets/base",
            "_model_module_version": "1.2.0",
            "_model_name": "LayoutModel",
            "_view_count": null,
            "_view_module": "@jupyter-widgets/base",
            "_view_module_version": "1.2.0",
            "_view_name": "LayoutView",
            "align_content": null,
            "align_items": null,
            "align_self": null,
            "border": null,
            "bottom": null,
            "display": null,
            "flex": null,
            "flex_flow": null,
            "grid_area": null,
            "grid_auto_columns": null,
            "grid_auto_flow": null,
            "grid_auto_rows": null,
            "grid_column": null,
            "grid_gap": null,
            "grid_row": null,
            "grid_template_areas": null,
            "grid_template_columns": null,
            "grid_template_rows": null,
            "height": null,
            "justify_content": null,
            "justify_items": null,
            "left": null,
            "margin": null,
            "max_height": null,
            "max_width": null,
            "min_height": null,
            "min_width": null,
            "object_fit": null,
            "object_position": null,
            "order": null,
            "overflow": null,
            "overflow_x": null,
            "overflow_y": null,
            "padding": null,
            "right": null,
            "top": null,
            "visibility": null,
            "width": null
          }
        },
        "9046ba41e1354656b941f346d097ee24": {
          "model_module": "@jupyter-widgets/controls",
          "model_name": "DescriptionStyleModel",
          "model_module_version": "1.5.0",
          "state": {
            "_model_module": "@jupyter-widgets/controls",
            "_model_module_version": "1.5.0",
            "_model_name": "DescriptionStyleModel",
            "_view_count": null,
            "_view_module": "@jupyter-widgets/base",
            "_view_module_version": "1.2.0",
            "_view_name": "StyleView",
            "description_width": ""
          }
        },
        "4173d9a54fbf4c14a80f5b4a0c69a613": {
          "model_module": "@jupyter-widgets/base",
          "model_name": "LayoutModel",
          "model_module_version": "1.2.0",
          "state": {
            "_model_module": "@jupyter-widgets/base",
            "_model_module_version": "1.2.0",
            "_model_name": "LayoutModel",
            "_view_count": null,
            "_view_module": "@jupyter-widgets/base",
            "_view_module_version": "1.2.0",
            "_view_name": "LayoutView",
            "align_content": null,
            "align_items": null,
            "align_self": null,
            "border": null,
            "bottom": null,
            "display": null,
            "flex": null,
            "flex_flow": null,
            "grid_area": null,
            "grid_auto_columns": null,
            "grid_auto_flow": null,
            "grid_auto_rows": null,
            "grid_column": null,
            "grid_gap": null,
            "grid_row": null,
            "grid_template_areas": null,
            "grid_template_columns": null,
            "grid_template_rows": null,
            "height": null,
            "justify_content": null,
            "justify_items": null,
            "left": null,
            "margin": null,
            "max_height": null,
            "max_width": null,
            "min_height": null,
            "min_width": null,
            "object_fit": null,
            "object_position": null,
            "order": null,
            "overflow": null,
            "overflow_x": null,
            "overflow_y": null,
            "padding": null,
            "right": null,
            "top": null,
            "visibility": null,
            "width": null
          }
        },
        "23d58e6667874c2a98f3228974d04cfa": {
          "model_module": "@jupyter-widgets/controls",
          "model_name": "ProgressStyleModel",
          "model_module_version": "1.5.0",
          "state": {
            "_model_module": "@jupyter-widgets/controls",
            "_model_module_version": "1.5.0",
            "_model_name": "ProgressStyleModel",
            "_view_count": null,
            "_view_module": "@jupyter-widgets/base",
            "_view_module_version": "1.2.0",
            "_view_name": "StyleView",
            "bar_color": null,
            "description_width": ""
          }
        },
        "ef885e45934145eda22cbb6b1b8515f0": {
          "model_module": "@jupyter-widgets/base",
          "model_name": "LayoutModel",
          "model_module_version": "1.2.0",
          "state": {
            "_model_module": "@jupyter-widgets/base",
            "_model_module_version": "1.2.0",
            "_model_name": "LayoutModel",
            "_view_count": null,
            "_view_module": "@jupyter-widgets/base",
            "_view_module_version": "1.2.0",
            "_view_name": "LayoutView",
            "align_content": null,
            "align_items": null,
            "align_self": null,
            "border": null,
            "bottom": null,
            "display": null,
            "flex": null,
            "flex_flow": null,
            "grid_area": null,
            "grid_auto_columns": null,
            "grid_auto_flow": null,
            "grid_auto_rows": null,
            "grid_column": null,
            "grid_gap": null,
            "grid_row": null,
            "grid_template_areas": null,
            "grid_template_columns": null,
            "grid_template_rows": null,
            "height": null,
            "justify_content": null,
            "justify_items": null,
            "left": null,
            "margin": null,
            "max_height": null,
            "max_width": null,
            "min_height": null,
            "min_width": null,
            "object_fit": null,
            "object_position": null,
            "order": null,
            "overflow": null,
            "overflow_x": null,
            "overflow_y": null,
            "padding": null,
            "right": null,
            "top": null,
            "visibility": null,
            "width": null
          }
        },
        "de1aafd863804d97a83361736faae524": {
          "model_module": "@jupyter-widgets/controls",
          "model_name": "DescriptionStyleModel",
          "model_module_version": "1.5.0",
          "state": {
            "_model_module": "@jupyter-widgets/controls",
            "_model_module_version": "1.5.0",
            "_model_name": "DescriptionStyleModel",
            "_view_count": null,
            "_view_module": "@jupyter-widgets/base",
            "_view_module_version": "1.2.0",
            "_view_name": "StyleView",
            "description_width": ""
          }
        },
        "1d6c64ac56764108b4776fa52826b5ad": {
          "model_module": "@jupyter-widgets/controls",
          "model_name": "HBoxModel",
          "model_module_version": "1.5.0",
          "state": {
            "_dom_classes": [],
            "_model_module": "@jupyter-widgets/controls",
            "_model_module_version": "1.5.0",
            "_model_name": "HBoxModel",
            "_view_count": null,
            "_view_module": "@jupyter-widgets/controls",
            "_view_module_version": "1.5.0",
            "_view_name": "HBoxView",
            "box_style": "",
            "children": [
              "IPY_MODEL_bf3b3a878a024dc69e34e5bb3d0f1596",
              "IPY_MODEL_8c06c47e3730416c8df5ebdd732b41fe",
              "IPY_MODEL_f4fdb6726abf4204bff42775c5ccb86c"
            ],
            "layout": "IPY_MODEL_e2ec7c006446427a8b12260a9aea805d"
          }
        },
        "bf3b3a878a024dc69e34e5bb3d0f1596": {
          "model_module": "@jupyter-widgets/controls",
          "model_name": "HTMLModel",
          "model_module_version": "1.5.0",
          "state": {
            "_dom_classes": [],
            "_model_module": "@jupyter-widgets/controls",
            "_model_module_version": "1.5.0",
            "_model_name": "HTMLModel",
            "_view_count": null,
            "_view_module": "@jupyter-widgets/controls",
            "_view_module_version": "1.5.0",
            "_view_name": "HTMLView",
            "description": "",
            "description_tooltip": null,
            "layout": "IPY_MODEL_a51562c32f2b4073963b3d858347d84a",
            "placeholder": "​",
            "style": "IPY_MODEL_250dd92da9ae4ef9ace9c469c6345bae",
            "value": "100%"
          }
        },
        "8c06c47e3730416c8df5ebdd732b41fe": {
          "model_module": "@jupyter-widgets/controls",
          "model_name": "FloatProgressModel",
          "model_module_version": "1.5.0",
          "state": {
            "_dom_classes": [],
            "_model_module": "@jupyter-widgets/controls",
            "_model_module_version": "1.5.0",
            "_model_name": "FloatProgressModel",
            "_view_count": null,
            "_view_module": "@jupyter-widgets/controls",
            "_view_module_version": "1.5.0",
            "_view_name": "ProgressView",
            "bar_style": "success",
            "description": "",
            "description_tooltip": null,
            "layout": "IPY_MODEL_37a07cbef24147b292a38228e526080f",
            "max": 1,
            "min": 0,
            "orientation": "horizontal",
            "style": "IPY_MODEL_bc6f0310a9ce48b79f02c2662fc44d4c",
            "value": 1
          }
        },
        "f4fdb6726abf4204bff42775c5ccb86c": {
          "model_module": "@jupyter-widgets/controls",
          "model_name": "HTMLModel",
          "model_module_version": "1.5.0",
          "state": {
            "_dom_classes": [],
            "_model_module": "@jupyter-widgets/controls",
            "_model_module_version": "1.5.0",
            "_model_name": "HTMLModel",
            "_view_count": null,
            "_view_module": "@jupyter-widgets/controls",
            "_view_module_version": "1.5.0",
            "_view_name": "HTMLView",
            "description": "",
            "description_tooltip": null,
            "layout": "IPY_MODEL_72529ca2d14d40b584c533b9f32f19dc",
            "placeholder": "​",
            "style": "IPY_MODEL_196387170220491585b294d9bcad64b4",
            "value": " 1/1 [00:01&lt;00:00,  1.58s/it]"
          }
        },
        "e2ec7c006446427a8b12260a9aea805d": {
          "model_module": "@jupyter-widgets/base",
          "model_name": "LayoutModel",
          "model_module_version": "1.2.0",
          "state": {
            "_model_module": "@jupyter-widgets/base",
            "_model_module_version": "1.2.0",
            "_model_name": "LayoutModel",
            "_view_count": null,
            "_view_module": "@jupyter-widgets/base",
            "_view_module_version": "1.2.0",
            "_view_name": "LayoutView",
            "align_content": null,
            "align_items": null,
            "align_self": null,
            "border": null,
            "bottom": null,
            "display": null,
            "flex": null,
            "flex_flow": null,
            "grid_area": null,
            "grid_auto_columns": null,
            "grid_auto_flow": null,
            "grid_auto_rows": null,
            "grid_column": null,
            "grid_gap": null,
            "grid_row": null,
            "grid_template_areas": null,
            "grid_template_columns": null,
            "grid_template_rows": null,
            "height": null,
            "justify_content": null,
            "justify_items": null,
            "left": null,
            "margin": null,
            "max_height": null,
            "max_width": null,
            "min_height": null,
            "min_width": null,
            "object_fit": null,
            "object_position": null,
            "order": null,
            "overflow": null,
            "overflow_x": null,
            "overflow_y": null,
            "padding": null,
            "right": null,
            "top": null,
            "visibility": null,
            "width": null
          }
        },
        "a51562c32f2b4073963b3d858347d84a": {
          "model_module": "@jupyter-widgets/base",
          "model_name": "LayoutModel",
          "model_module_version": "1.2.0",
          "state": {
            "_model_module": "@jupyter-widgets/base",
            "_model_module_version": "1.2.0",
            "_model_name": "LayoutModel",
            "_view_count": null,
            "_view_module": "@jupyter-widgets/base",
            "_view_module_version": "1.2.0",
            "_view_name": "LayoutView",
            "align_content": null,
            "align_items": null,
            "align_self": null,
            "border": null,
            "bottom": null,
            "display": null,
            "flex": null,
            "flex_flow": null,
            "grid_area": null,
            "grid_auto_columns": null,
            "grid_auto_flow": null,
            "grid_auto_rows": null,
            "grid_column": null,
            "grid_gap": null,
            "grid_row": null,
            "grid_template_areas": null,
            "grid_template_columns": null,
            "grid_template_rows": null,
            "height": null,
            "justify_content": null,
            "justify_items": null,
            "left": null,
            "margin": null,
            "max_height": null,
            "max_width": null,
            "min_height": null,
            "min_width": null,
            "object_fit": null,
            "object_position": null,
            "order": null,
            "overflow": null,
            "overflow_x": null,
            "overflow_y": null,
            "padding": null,
            "right": null,
            "top": null,
            "visibility": null,
            "width": null
          }
        },
        "250dd92da9ae4ef9ace9c469c6345bae": {
          "model_module": "@jupyter-widgets/controls",
          "model_name": "DescriptionStyleModel",
          "model_module_version": "1.5.0",
          "state": {
            "_model_module": "@jupyter-widgets/controls",
            "_model_module_version": "1.5.0",
            "_model_name": "DescriptionStyleModel",
            "_view_count": null,
            "_view_module": "@jupyter-widgets/base",
            "_view_module_version": "1.2.0",
            "_view_name": "StyleView",
            "description_width": ""
          }
        },
        "37a07cbef24147b292a38228e526080f": {
          "model_module": "@jupyter-widgets/base",
          "model_name": "LayoutModel",
          "model_module_version": "1.2.0",
          "state": {
            "_model_module": "@jupyter-widgets/base",
            "_model_module_version": "1.2.0",
            "_model_name": "LayoutModel",
            "_view_count": null,
            "_view_module": "@jupyter-widgets/base",
            "_view_module_version": "1.2.0",
            "_view_name": "LayoutView",
            "align_content": null,
            "align_items": null,
            "align_self": null,
            "border": null,
            "bottom": null,
            "display": null,
            "flex": null,
            "flex_flow": null,
            "grid_area": null,
            "grid_auto_columns": null,
            "grid_auto_flow": null,
            "grid_auto_rows": null,
            "grid_column": null,
            "grid_gap": null,
            "grid_row": null,
            "grid_template_areas": null,
            "grid_template_columns": null,
            "grid_template_rows": null,
            "height": null,
            "justify_content": null,
            "justify_items": null,
            "left": null,
            "margin": null,
            "max_height": null,
            "max_width": null,
            "min_height": null,
            "min_width": null,
            "object_fit": null,
            "object_position": null,
            "order": null,
            "overflow": null,
            "overflow_x": null,
            "overflow_y": null,
            "padding": null,
            "right": null,
            "top": null,
            "visibility": null,
            "width": null
          }
        },
        "bc6f0310a9ce48b79f02c2662fc44d4c": {
          "model_module": "@jupyter-widgets/controls",
          "model_name": "ProgressStyleModel",
          "model_module_version": "1.5.0",
          "state": {
            "_model_module": "@jupyter-widgets/controls",
            "_model_module_version": "1.5.0",
            "_model_name": "ProgressStyleModel",
            "_view_count": null,
            "_view_module": "@jupyter-widgets/base",
            "_view_module_version": "1.2.0",
            "_view_name": "StyleView",
            "bar_color": null,
            "description_width": ""
          }
        },
        "72529ca2d14d40b584c533b9f32f19dc": {
          "model_module": "@jupyter-widgets/base",
          "model_name": "LayoutModel",
          "model_module_version": "1.2.0",
          "state": {
            "_model_module": "@jupyter-widgets/base",
            "_model_module_version": "1.2.0",
            "_model_name": "LayoutModel",
            "_view_count": null,
            "_view_module": "@jupyter-widgets/base",
            "_view_module_version": "1.2.0",
            "_view_name": "LayoutView",
            "align_content": null,
            "align_items": null,
            "align_self": null,
            "border": null,
            "bottom": null,
            "display": null,
            "flex": null,
            "flex_flow": null,
            "grid_area": null,
            "grid_auto_columns": null,
            "grid_auto_flow": null,
            "grid_auto_rows": null,
            "grid_column": null,
            "grid_gap": null,
            "grid_row": null,
            "grid_template_areas": null,
            "grid_template_columns": null,
            "grid_template_rows": null,
            "height": null,
            "justify_content": null,
            "justify_items": null,
            "left": null,
            "margin": null,
            "max_height": null,
            "max_width": null,
            "min_height": null,
            "min_width": null,
            "object_fit": null,
            "object_position": null,
            "order": null,
            "overflow": null,
            "overflow_x": null,
            "overflow_y": null,
            "padding": null,
            "right": null,
            "top": null,
            "visibility": null,
            "width": null
          }
        },
        "196387170220491585b294d9bcad64b4": {
          "model_module": "@jupyter-widgets/controls",
          "model_name": "DescriptionStyleModel",
          "model_module_version": "1.5.0",
          "state": {
            "_model_module": "@jupyter-widgets/controls",
            "_model_module_version": "1.5.0",
            "_model_name": "DescriptionStyleModel",
            "_view_count": null,
            "_view_module": "@jupyter-widgets/base",
            "_view_module_version": "1.2.0",
            "_view_name": "StyleView",
            "description_width": ""
          }
        }
      }
    }
  },
  "cells": [
    {
      "cell_type": "markdown",
      "metadata": {
        "id": "view-in-github",
        "colab_type": "text"
      },
      "source": [
        "<a href=\"https://colab.research.google.com/github/sevvalbilgi/Titanic_Project/blob/main/rock_paper_scss_cnn_model.ipynb\" target=\"_parent\"><img src=\"https://colab.research.google.com/assets/colab-badge.svg\" alt=\"Open In Colab\"/></a>"
      ]
    },
    {
      "cell_type": "code",
      "execution_count": null,
      "metadata": {
        "id": "57xfKblxyJzw",
        "colab": {
          "base_uri": "https://localhost:8080/"
        },
        "outputId": "33fa20e8-daea-4724-d339-9b48a8b8f02a"
      },
      "outputs": [
        {
          "output_type": "stream",
          "name": "stdout",
          "text": [
            "Requirement already satisfied: pycocotools in /usr/local/lib/python3.10/dist-packages (2.0.7)\n",
            "Requirement already satisfied: matplotlib>=2.1.0 in /usr/local/lib/python3.10/dist-packages (from pycocotools) (3.7.1)\n",
            "Requirement already satisfied: numpy in /usr/local/lib/python3.10/dist-packages (from pycocotools) (1.25.2)\n",
            "Requirement already satisfied: contourpy>=1.0.1 in /usr/local/lib/python3.10/dist-packages (from matplotlib>=2.1.0->pycocotools) (1.2.1)\n",
            "Requirement already satisfied: cycler>=0.10 in /usr/local/lib/python3.10/dist-packages (from matplotlib>=2.1.0->pycocotools) (0.12.1)\n",
            "Requirement already satisfied: fonttools>=4.22.0 in /usr/local/lib/python3.10/dist-packages (from matplotlib>=2.1.0->pycocotools) (4.51.0)\n",
            "Requirement already satisfied: kiwisolver>=1.0.1 in /usr/local/lib/python3.10/dist-packages (from matplotlib>=2.1.0->pycocotools) (1.4.5)\n",
            "Requirement already satisfied: packaging>=20.0 in /usr/local/lib/python3.10/dist-packages (from matplotlib>=2.1.0->pycocotools) (24.0)\n",
            "Requirement already satisfied: pillow>=6.2.0 in /usr/local/lib/python3.10/dist-packages (from matplotlib>=2.1.0->pycocotools) (9.4.0)\n",
            "Requirement already satisfied: pyparsing>=2.3.1 in /usr/local/lib/python3.10/dist-packages (from matplotlib>=2.1.0->pycocotools) (3.1.2)\n",
            "Requirement already satisfied: python-dateutil>=2.7 in /usr/local/lib/python3.10/dist-packages (from matplotlib>=2.1.0->pycocotools) (2.8.2)\n",
            "Requirement already satisfied: six>=1.5 in /usr/local/lib/python3.10/dist-packages (from python-dateutil>=2.7->matplotlib>=2.1.0->pycocotools) (1.16.0)\n",
            "Collecting ffmpeg\n",
            "  Downloading ffmpeg-1.4.tar.gz (5.1 kB)\n",
            "  Preparing metadata (setup.py) ... \u001b[?25l\u001b[?25hdone\n",
            "Building wheels for collected packages: ffmpeg\n",
            "  Building wheel for ffmpeg (setup.py) ... \u001b[?25l\u001b[?25hdone\n",
            "  Created wheel for ffmpeg: filename=ffmpeg-1.4-py3-none-any.whl size=6082 sha256=ce3e64e26ddc5e5aaa7de46a0e4c8e2ef6538546587afaaf8489eaa8d310693c\n",
            "  Stored in directory: /root/.cache/pip/wheels/8e/7a/69/cd6aeb83b126a7f04cbe7c9d929028dc52a6e7d525ff56003a\n",
            "Successfully built ffmpeg\n",
            "Installing collected packages: ffmpeg\n",
            "Successfully installed ffmpeg-1.4\n"
          ]
        }
      ],
      "source": [
        "!pip install pycocotools #webcam input için gerekli bir kütüphane\n",
        "!pip install ffmpeg"
      ]
    },
    {
      "cell_type": "code",
      "source": [
        "from google.colab import drive\n",
        "drive.mount('/content/drive')"
      ],
      "metadata": {
        "colab": {
          "base_uri": "https://localhost:8080/"
        },
        "id": "_iwGjni5IxMf",
        "outputId": "f4ddbf2b-5b9c-4a53-f9a6-224e895002c3"
      },
      "execution_count": null,
      "outputs": [
        {
          "output_type": "stream",
          "name": "stdout",
          "text": [
            "Drive already mounted at /content/drive; to attempt to forcibly remount, call drive.mount(\"/content/drive\", force_remount=True).\n"
          ]
        }
      ]
    },
    {
      "cell_type": "code",
      "source": [
        "import os\n",
        "work_dir= \"/content/drive/MyDrive/SKILLIT Courses/AI Level 2/Final Project\"\n",
        "os.chdir(work_dir)"
      ],
      "metadata": {
        "id": "AK7-9rZxH0oq"
      },
      "execution_count": null,
      "outputs": []
    },
    {
      "cell_type": "code",
      "source": [
        "from colab_utils import imshow, videoGrabber\n",
        "import numpy as np\n",
        "import matplotlib.pyplot as plt\n",
        "from google.colab import output #ekranı temizlemek için kullanılıyor\n",
        "\n",
        "%tensorflow_version 2.X\n",
        "import tensorflow as tf\n",
        "from tensorflow.keras import datasets, layers, models\n",
        "from tqdm.auto import tqdm #Belirli bir etkinliğin ilerlemesini gösteren bir durum çubuğu oluşturmak içi kunllanılır"
      ],
      "metadata": {
        "id": "P-0hvtJNIYkS",
        "colab": {
          "base_uri": "https://localhost:8080/"
        },
        "outputId": "6f8dc005-ee80-428a-85ea-4330c4cb4fef"
      },
      "execution_count": null,
      "outputs": [
        {
          "output_type": "stream",
          "name": "stdout",
          "text": [
            "Colab only includes TensorFlow 2.x; %tensorflow_version has no effect.\n"
          ]
        }
      ]
    },
    {
      "cell_type": "code",
      "source": [
        "CLASS_NAME= ['Paper', 'Rock', 'Scissor']"
      ],
      "metadata": {
        "id": "dOMiiONmT6gr"
      },
      "execution_count": null,
      "outputs": []
    },
    {
      "cell_type": "markdown",
      "source": [
        "# Fonksiyon Çalışma Mantığı\n",
        "\n",
        "1. Bu fonksiyonda video, web kamerasından gelen video akışıdır.\n",
        "2. numImage görüntülerini yakalayan bir for döngüsünde:\n",
        "3. Videodaki mevcut görüntüyü numpy dizisine dönüştürüyoruz\n",
        "4. Ve bu numpy dizisini mevcut boş resim dizisi img[]'nin sonuna ekliyoruz.\n",
        "5. Etiket verilmişse etiketi y[]'ye uygularız.\n",
        "6. Sonunda Img ve y'yi numpy dizileri olarak döndürüyoruz çünkü numpy dizilerinin dönüştürülmesi ve düzenlenmesi normal dizilerden daha kolaydır"
      ],
      "metadata": {
        "id": "TxLAc7V8WqnH"
      }
    },
    {
      "cell_type": "code",
      "source": [
        "def capture_images (numImage=100,label='Null'):\n",
        "\n",
        "  vid=videoGrabber(showVideo=True, size= (60,40))\n",
        "  img=[]\n",
        "  y=[]\n",
        "\n",
        "  for x in tqdm(range(numImage)):\n",
        "    new_image = np.array(vid(0))\n",
        "    img.append(new_image)\n",
        "    if label!='Null':\n",
        "      y.append(label)\n",
        "  img = np.array(img)\n",
        "  y = np.array(y)\n",
        "  return img,y"
      ],
      "metadata": {
        "id": "lm_KHJ6BVNnk"
      },
      "execution_count": null,
      "outputs": []
    },
    {
      "cell_type": "code",
      "source": [
        "paper_images, paper_label= capture_images(numImage=100, label=0)"
      ],
      "metadata": {
        "colab": {
          "base_uri": "https://localhost:8080/",
          "height": 93,
          "referenced_widgets": [
            "be1c267c1d25421d9f1e020a6f12cef9",
            "090ae1af2533405d83080ac86af94235",
            "520e612397de4ecc93e6a9d9f1d439d4",
            "18526c2b74ae43cfb7e2767d117f2338",
            "48cda2a16b92477a895242c418629815",
            "e57c1b84bebc4d07a760c6ff06a05dbc",
            "0e2f5198b6b943f199b4e8fa988567d7",
            "8a3687b370604385a8bb3698a70e173b",
            "0fba5f8137b94c218483284acd5a1482",
            "7c7167f166f54ad681eaf546541a0fd1",
            "c094fb65b26d4e5a9f949eb994826653"
          ]
        },
        "id": "O2ozTtfYYICp",
        "outputId": "c53ba3cb-7f90-4ccb-cd93-7ab442957a27"
      },
      "execution_count": null,
      "outputs": [
        {
          "output_type": "display_data",
          "data": {
            "text/plain": [
              "<IPython.core.display.HTML object>"
            ],
            "text/html": [
              "\n",
              "  <div id=\"video_container\">\n",
              "    <video autoplay\n",
              "    width=60 height=40></video>\n",
              "  </div>\n",
              "  <script>\n",
              "  var video_div = document.getElementById(\"video_container\");\n",
              "  if(!true){\n",
              "    video_div.style.position = 'absolute';\n",
              "    video_div.style.left = '-9999px';\n",
              "  }\n",
              "  var video = document.querySelector('video');\n",
              "  var canvas = document.createElement('canvas');\n",
              "  canvas.id = \"canvas_container\";\n",
              "  var video_ready = false;\n",
              "  const nav = navigator.mediaDevices.getUserMedia({ video: true })\n",
              "    .then(stream => {\n",
              "      video.srcObject = stream;\n",
              "      sleep(100.000000).then(() => video_ready = true);\n",
              "      });\n",
              "  // https://stackoverflow.com/a/951057\n",
              "  function sleep(ms) {\n",
              "    return new Promise(resolve => setTimeout(resolve, ms));\n",
              "  }\n",
              "  function getData(ms){\n",
              "    if(video_ready){\n",
              "    return new Promise(resolve=>{\n",
              "      sleep(ms).then(() => {\n",
              "        var [w,h] = [video.offsetWidth, video.offsetHeight];\n",
              "        canvas.width = w;\n",
              "        canvas.height = h;\n",
              "        canvas.getContext('2d').drawImage(video, 0, 0, w, h);\n",
              "        resolve(canvas.toDataURL('image/jpeg', 0.800000));\n",
              "        });\n",
              "      })\n",
              "    }\n",
              "  }\n",
              "  function stopVideo(){\n",
              "    video.srcObject.getVideoTracks()[0].stop();\n",
              "    canvas.remove();\n",
              "    video.remove();\n",
              "    video_div.remove();\n",
              "  }\n",
              "  </script>\n",
              "  "
            ]
          },
          "metadata": {}
        },
        {
          "output_type": "display_data",
          "data": {
            "text/plain": [
              "  0%|          | 0/100 [00:00<?, ?it/s]"
            ],
            "application/vnd.jupyter.widget-view+json": {
              "version_major": 2,
              "version_minor": 0,
              "model_id": "be1c267c1d25421d9f1e020a6f12cef9"
            }
          },
          "metadata": {}
        }
      ]
    },
    {
      "cell_type": "code",
      "source": [
        "rock_images, rock_label= capture_images(numImage=100,label=1)"
      ],
      "metadata": {
        "colab": {
          "base_uri": "https://localhost:8080/",
          "height": 93,
          "referenced_widgets": [
            "7774af3733134cb1a8756f607de6bfed",
            "80004ee72e6d4ccc9683f31cb1128236",
            "b841b5c381c446b4a237aa5493c76eca",
            "27ce866629a84328acf00703f7035e34",
            "97068e8e4a534bee9898694dadd356df",
            "b43307ced3b14cb1bb96beeb9c12e66d",
            "1a4780f61347481aa8259ed039da0058",
            "0029c6f54d094bfe86182063ea72700a",
            "97d98fc3262a4226a8862ef8e2fd4051",
            "b2514133694f4078bf547b1419c46c9f",
            "fb62e730db384403b1030446351685f2"
          ]
        },
        "id": "NJXJRpyrYomu",
        "outputId": "6a92a5c2-1933-46be-d8e2-d051ff863464"
      },
      "execution_count": null,
      "outputs": [
        {
          "output_type": "display_data",
          "data": {
            "text/plain": [
              "<IPython.core.display.HTML object>"
            ],
            "text/html": [
              "\n",
              "  <div id=\"video_container\">\n",
              "    <video autoplay\n",
              "    width=60 height=40></video>\n",
              "  </div>\n",
              "  <script>\n",
              "  var video_div = document.getElementById(\"video_container\");\n",
              "  if(!true){\n",
              "    video_div.style.position = 'absolute';\n",
              "    video_div.style.left = '-9999px';\n",
              "  }\n",
              "  var video = document.querySelector('video');\n",
              "  var canvas = document.createElement('canvas');\n",
              "  canvas.id = \"canvas_container\";\n",
              "  var video_ready = false;\n",
              "  const nav = navigator.mediaDevices.getUserMedia({ video: true })\n",
              "    .then(stream => {\n",
              "      video.srcObject = stream;\n",
              "      sleep(100.000000).then(() => video_ready = true);\n",
              "      });\n",
              "  // https://stackoverflow.com/a/951057\n",
              "  function sleep(ms) {\n",
              "    return new Promise(resolve => setTimeout(resolve, ms));\n",
              "  }\n",
              "  function getData(ms){\n",
              "    if(video_ready){\n",
              "    return new Promise(resolve=>{\n",
              "      sleep(ms).then(() => {\n",
              "        var [w,h] = [video.offsetWidth, video.offsetHeight];\n",
              "        canvas.width = w;\n",
              "        canvas.height = h;\n",
              "        canvas.getContext('2d').drawImage(video, 0, 0, w, h);\n",
              "        resolve(canvas.toDataURL('image/jpeg', 0.800000));\n",
              "        });\n",
              "      })\n",
              "    }\n",
              "  }\n",
              "  function stopVideo(){\n",
              "    video.srcObject.getVideoTracks()[0].stop();\n",
              "    canvas.remove();\n",
              "    video.remove();\n",
              "    video_div.remove();\n",
              "  }\n",
              "  </script>\n",
              "  "
            ]
          },
          "metadata": {}
        },
        {
          "output_type": "display_data",
          "data": {
            "text/plain": [
              "  0%|          | 0/100 [00:00<?, ?it/s]"
            ],
            "application/vnd.jupyter.widget-view+json": {
              "version_major": 2,
              "version_minor": 0,
              "model_id": "7774af3733134cb1a8756f607de6bfed"
            }
          },
          "metadata": {}
        }
      ]
    },
    {
      "cell_type": "code",
      "source": [
        "scissor_images, scissor_label= capture_images(numImage= 100,label=2)"
      ],
      "metadata": {
        "colab": {
          "base_uri": "https://localhost:8080/",
          "height": 93,
          "referenced_widgets": [
            "458074128dd44731bb74b43af4ec87bd",
            "0dfbcecac0604bea983e5f295f869ffd",
            "6072995a2bc3428aa2807cc1062118dc",
            "d98074fc1a4a40a1a35470754af397f6",
            "5894d44590ed4ca690b8e7f99387eec7",
            "22992122d59241c79b1a5c21beca5277",
            "9046ba41e1354656b941f346d097ee24",
            "4173d9a54fbf4c14a80f5b4a0c69a613",
            "23d58e6667874c2a98f3228974d04cfa",
            "ef885e45934145eda22cbb6b1b8515f0",
            "de1aafd863804d97a83361736faae524"
          ]
        },
        "id": "W6-F_DB_YwlV",
        "outputId": "f2432c60-83bb-4752-b167-2cfbb0a31591"
      },
      "execution_count": null,
      "outputs": [
        {
          "output_type": "display_data",
          "data": {
            "text/plain": [
              "<IPython.core.display.HTML object>"
            ],
            "text/html": [
              "\n",
              "  <div id=\"video_container\">\n",
              "    <video autoplay\n",
              "    width=60 height=40></video>\n",
              "  </div>\n",
              "  <script>\n",
              "  var video_div = document.getElementById(\"video_container\");\n",
              "  if(!true){\n",
              "    video_div.style.position = 'absolute';\n",
              "    video_div.style.left = '-9999px';\n",
              "  }\n",
              "  var video = document.querySelector('video');\n",
              "  var canvas = document.createElement('canvas');\n",
              "  canvas.id = \"canvas_container\";\n",
              "  var video_ready = false;\n",
              "  const nav = navigator.mediaDevices.getUserMedia({ video: true })\n",
              "    .then(stream => {\n",
              "      video.srcObject = stream;\n",
              "      sleep(100.000000).then(() => video_ready = true);\n",
              "      });\n",
              "  // https://stackoverflow.com/a/951057\n",
              "  function sleep(ms) {\n",
              "    return new Promise(resolve => setTimeout(resolve, ms));\n",
              "  }\n",
              "  function getData(ms){\n",
              "    if(video_ready){\n",
              "    return new Promise(resolve=>{\n",
              "      sleep(ms).then(() => {\n",
              "        var [w,h] = [video.offsetWidth, video.offsetHeight];\n",
              "        canvas.width = w;\n",
              "        canvas.height = h;\n",
              "        canvas.getContext('2d').drawImage(video, 0, 0, w, h);\n",
              "        resolve(canvas.toDataURL('image/jpeg', 0.800000));\n",
              "        });\n",
              "      })\n",
              "    }\n",
              "  }\n",
              "  function stopVideo(){\n",
              "    video.srcObject.getVideoTracks()[0].stop();\n",
              "    canvas.remove();\n",
              "    video.remove();\n",
              "    video_div.remove();\n",
              "  }\n",
              "  </script>\n",
              "  "
            ]
          },
          "metadata": {}
        },
        {
          "output_type": "display_data",
          "data": {
            "text/plain": [
              "  0%|          | 0/100 [00:00<?, ?it/s]"
            ],
            "application/vnd.jupyter.widget-view+json": {
              "version_major": 2,
              "version_minor": 0,
              "model_id": "458074128dd44731bb74b43af4ec87bd"
            }
          },
          "metadata": {}
        }
      ]
    },
    {
      "cell_type": "code",
      "source": [
        "train_images = np.concatenate((paper_images, rock_images, scissor_images)) #concatenate sınıfları birleştirmek için kullanılıyor\n",
        "train_images= train_images/255\n",
        "train_labels= np.concatenate((paper_label, rock_label, scissor_label))"
      ],
      "metadata": {
        "id": "wuV8s6BVZO6m"
      },
      "execution_count": null,
      "outputs": []
    },
    {
      "cell_type": "code",
      "source": [
        "from keras.preprocessing import image\n",
        "from keras.preprocessing.image import ImageDataGenerator\n",
        "\n",
        "#görüntüleri dönüştüren bir veri oluşturucu nesnesi oluşturur\n",
        "datagen= ImageDataGenerator(\n",
        "rotation_range= 40,\n",
        "width_shift_range=0.2,\n",
        "height_shift_range=0.2,\n",
        "shear_range=0.2,\n",
        "zoom_range=0.2,\n",
        "horizontal_flip= True,\n",
        "fill_mode='nearest')\n",
        "\n",
        "idx = 0\n",
        "new_train_images = []\n",
        "new_train_labels= []\n",
        "for image in train_images:\n",
        "  img= image.reshape((1,)+image.shape) #görüntüyü 3 boyutlu yapma (1,60,40)\n",
        "  i=0\n",
        "  for batch in datagen.flow(img, save_prefix='test', save_format='jpeg'): #bu loop sürekli dönmekte\n",
        "      plt.figure(i)\n",
        "      #print(batch[0])\n",
        "      plot= plt.imshow(batch[0])\n",
        "      i+=1\n",
        "      new_train_images.append(batch[0])\n",
        "      new_train_labels.append(train_labels[idx])\n",
        "      if i> 10:\n",
        "        break\n",
        "  idx+=1\n",
        "\n"
      ],
      "metadata": {
        "id": "26MYIu6J5h50"
      },
      "execution_count": null,
      "outputs": []
    },
    {
      "cell_type": "code",
      "source": [
        "new_train_images = np.array(new_train_images)\n",
        "new_train_labels = np.array(new_train_labels)"
      ],
      "metadata": {
        "id": "q13NgYVvUUtO"
      },
      "execution_count": null,
      "outputs": []
    },
    {
      "cell_type": "code",
      "source": [
        "model = models.Sequential()\n",
        "model.add(layers.Conv2D(32,(5,5),activation='relu',input_shape=(40,60,3)))\n",
        "model.add(layers.MaxPooling2D((2,2)))\n",
        "model.add(layers.Conv2D(64,(5,5),activation='relu'))\n",
        "model.add(layers.MaxPooling2D((2,2)))\n",
        "model.add(layers.Conv2D(64,(5,5),activation='relu'))"
      ],
      "metadata": {
        "id": "i2k8f6fSUf3O"
      },
      "execution_count": null,
      "outputs": []
    },
    {
      "cell_type": "code",
      "source": [
        "model.summary()"
      ],
      "metadata": {
        "colab": {
          "base_uri": "https://localhost:8080/"
        },
        "id": "5YFBptS3VkEX",
        "outputId": "469cca45-53a6-4d31-a9d9-7d59b1791307"
      },
      "execution_count": null,
      "outputs": [
        {
          "output_type": "stream",
          "name": "stdout",
          "text": [
            "Model: \"sequential\"\n",
            "_________________________________________________________________\n",
            " Layer (type)                Output Shape              Param #   \n",
            "=================================================================\n",
            " conv2d (Conv2D)             (None, 36, 56, 32)        2432      \n",
            "                                                                 \n",
            " max_pooling2d (MaxPooling2  (None, 18, 28, 32)        0         \n",
            " D)                                                              \n",
            "                                                                 \n",
            " conv2d_1 (Conv2D)           (None, 14, 24, 64)        51264     \n",
            "                                                                 \n",
            " max_pooling2d_1 (MaxPoolin  (None, 7, 12, 64)         0         \n",
            " g2D)                                                            \n",
            "                                                                 \n",
            " conv2d_2 (Conv2D)           (None, 3, 8, 64)          102464    \n",
            "                                                                 \n",
            "=================================================================\n",
            "Total params: 156160 (610.00 KB)\n",
            "Trainable params: 156160 (610.00 KB)\n",
            "Non-trainable params: 0 (0.00 Byte)\n",
            "_________________________________________________________________\n"
          ]
        }
      ]
    },
    {
      "cell_type": "code",
      "source": [
        "model.add(layers.Flatten()) #üç boyutlu veriyi tek boyuta (1D) dönüştürmek için\n",
        "model.add(layers.Dense(64,activation='relu'))\n",
        "model.add(layers.Dense(3))"
      ],
      "metadata": {
        "id": "2PEJyBZDeyMS"
      },
      "execution_count": null,
      "outputs": []
    },
    {
      "cell_type": "code",
      "source": [
        "model.summary()"
      ],
      "metadata": {
        "colab": {
          "base_uri": "https://localhost:8080/"
        },
        "id": "R-HOCog7fGeL",
        "outputId": "46d2cd1e-8754-4dbb-c356-b4430f3101ec"
      },
      "execution_count": null,
      "outputs": [
        {
          "output_type": "stream",
          "name": "stdout",
          "text": [
            "Model: \"sequential\"\n",
            "_________________________________________________________________\n",
            " Layer (type)                Output Shape              Param #   \n",
            "=================================================================\n",
            " conv2d (Conv2D)             (None, 36, 56, 32)        2432      \n",
            "                                                                 \n",
            " max_pooling2d (MaxPooling2  (None, 18, 28, 32)        0         \n",
            " D)                                                              \n",
            "                                                                 \n",
            " conv2d_1 (Conv2D)           (None, 14, 24, 64)        51264     \n",
            "                                                                 \n",
            " max_pooling2d_1 (MaxPoolin  (None, 7, 12, 64)         0         \n",
            " g2D)                                                            \n",
            "                                                                 \n",
            " conv2d_2 (Conv2D)           (None, 3, 8, 64)          102464    \n",
            "                                                                 \n",
            " flatten (Flatten)           (None, 1536)              0         \n",
            "                                                                 \n",
            " dense (Dense)               (None, 64)                98368     \n",
            "                                                                 \n",
            " dense_1 (Dense)             (None, 3)                 195       \n",
            "                                                                 \n",
            "=================================================================\n",
            "Total params: 254723 (995.01 KB)\n",
            "Trainable params: 254723 (995.01 KB)\n",
            "Non-trainable params: 0 (0.00 Byte)\n",
            "_________________________________________________________________\n"
          ]
        }
      ]
    },
    {
      "cell_type": "code",
      "source": [
        "#training model\n",
        "model.compile(optimizer= 'adam', loss=tf.keras.losses.SparseCategoricalCrossentropy(from_logits=True),\n",
        "              metrics=['accuracy'])\n",
        "\n",
        "history= model.fit(new_train_images, new_train_labels, epochs=10)"
      ],
      "metadata": {
        "colab": {
          "base_uri": "https://localhost:8080/"
        },
        "id": "wt2FmFlLfrGd",
        "outputId": "8b676727-bed4-4316-8f61-3f807e8d47ab"
      },
      "execution_count": null,
      "outputs": [
        {
          "output_type": "stream",
          "name": "stdout",
          "text": [
            "Epoch 1/10\n",
            "104/104 [==============================] - 18s 160ms/step - loss: 1.1026 - accuracy: 0.3355\n",
            "Epoch 2/10\n",
            "104/104 [==============================] - 18s 176ms/step - loss: 1.0990 - accuracy: 0.3309\n",
            "Epoch 3/10\n",
            "104/104 [==============================] - 18s 173ms/step - loss: 1.0977 - accuracy: 0.3406\n",
            "Epoch 4/10\n",
            "104/104 [==============================] - 18s 171ms/step - loss: 1.0989 - accuracy: 0.3264\n",
            "Epoch 5/10\n",
            "104/104 [==============================] - 16s 158ms/step - loss: 1.0969 - accuracy: 0.3606\n",
            "Epoch 6/10\n",
            "104/104 [==============================] - 16s 157ms/step - loss: 1.0989 - accuracy: 0.3455\n",
            "Epoch 7/10\n",
            "104/104 [==============================] - 18s 175ms/step - loss: 1.0975 - accuracy: 0.3533\n",
            "Epoch 8/10\n",
            "104/104 [==============================] - 18s 170ms/step - loss: 1.0820 - accuracy: 0.3964\n",
            "Epoch 9/10\n",
            "104/104 [==============================] - 17s 159ms/step - loss: 1.0727 - accuracy: 0.4030\n",
            "Epoch 10/10\n",
            "104/104 [==============================] - 16s 157ms/step - loss: 0.9674 - accuracy: 0.5173\n"
          ]
        }
      ]
    },
    {
      "cell_type": "code",
      "source": [
        "test_image, _= capture_images(1)\n",
        "\n",
        "test_image= test_image/255\n",
        "prediction= model.predict(test_image)\n",
        "plt.imshow(test_image[0])\n",
        "plt.title(CLASS_NAME[np.argmax(prediction[0])])"
      ],
      "metadata": {
        "colab": {
          "base_uri": "https://localhost:8080/",
          "height": 524,
          "referenced_widgets": [
            "1d6c64ac56764108b4776fa52826b5ad",
            "bf3b3a878a024dc69e34e5bb3d0f1596",
            "8c06c47e3730416c8df5ebdd732b41fe",
            "f4fdb6726abf4204bff42775c5ccb86c",
            "e2ec7c006446427a8b12260a9aea805d",
            "a51562c32f2b4073963b3d858347d84a",
            "250dd92da9ae4ef9ace9c469c6345bae",
            "37a07cbef24147b292a38228e526080f",
            "bc6f0310a9ce48b79f02c2662fc44d4c",
            "72529ca2d14d40b584c533b9f32f19dc",
            "196387170220491585b294d9bcad64b4"
          ]
        },
        "id": "Gw7glSrVj6NW",
        "outputId": "3388caa0-7100-47ab-d586-e95909e47d72"
      },
      "execution_count": null,
      "outputs": [
        {
          "output_type": "display_data",
          "data": {
            "text/plain": [
              "<IPython.core.display.HTML object>"
            ],
            "text/html": [
              "\n",
              "  <div id=\"video_container\">\n",
              "    <video autoplay\n",
              "    width=60 height=40></video>\n",
              "  </div>\n",
              "  <script>\n",
              "  var video_div = document.getElementById(\"video_container\");\n",
              "  if(!true){\n",
              "    video_div.style.position = 'absolute';\n",
              "    video_div.style.left = '-9999px';\n",
              "  }\n",
              "  var video = document.querySelector('video');\n",
              "  var canvas = document.createElement('canvas');\n",
              "  canvas.id = \"canvas_container\";\n",
              "  var video_ready = false;\n",
              "  const nav = navigator.mediaDevices.getUserMedia({ video: true })\n",
              "    .then(stream => {\n",
              "      video.srcObject = stream;\n",
              "      sleep(100.000000).then(() => video_ready = true);\n",
              "      });\n",
              "  // https://stackoverflow.com/a/951057\n",
              "  function sleep(ms) {\n",
              "    return new Promise(resolve => setTimeout(resolve, ms));\n",
              "  }\n",
              "  function getData(ms){\n",
              "    if(video_ready){\n",
              "    return new Promise(resolve=>{\n",
              "      sleep(ms).then(() => {\n",
              "        var [w,h] = [video.offsetWidth, video.offsetHeight];\n",
              "        canvas.width = w;\n",
              "        canvas.height = h;\n",
              "        canvas.getContext('2d').drawImage(video, 0, 0, w, h);\n",
              "        resolve(canvas.toDataURL('image/jpeg', 0.800000));\n",
              "        });\n",
              "      })\n",
              "    }\n",
              "  }\n",
              "  function stopVideo(){\n",
              "    video.srcObject.getVideoTracks()[0].stop();\n",
              "    canvas.remove();\n",
              "    video.remove();\n",
              "    video_div.remove();\n",
              "  }\n",
              "  </script>\n",
              "  "
            ]
          },
          "metadata": {}
        },
        {
          "output_type": "display_data",
          "data": {
            "text/plain": [
              "  0%|          | 0/1 [00:00<?, ?it/s]"
            ],
            "application/vnd.jupyter.widget-view+json": {
              "version_major": 2,
              "version_minor": 0,
              "model_id": "1d6c64ac56764108b4776fa52826b5ad"
            }
          },
          "metadata": {}
        },
        {
          "output_type": "stream",
          "name": "stdout",
          "text": [
            "1/1 [==============================] - 0s 34ms/step\n"
          ]
        },
        {
          "output_type": "execute_result",
          "data": {
            "text/plain": [
              "Text(0.5, 1.0, 'Scissor')"
            ]
          },
          "metadata": {},
          "execution_count": 27
        },
        {
          "output_type": "display_data",
          "data": {
            "text/plain": [
              "<Figure size 640x480 with 1 Axes>"
            ],
            "image/png": "[encoded data removed]"
          },
          "metadata": {}
        }
      ]
    },
    {
      "cell_type": "code",
      "source": [
        "model.save('self-made_model.h5')"
      ],
      "metadata": {
        "colab": {
          "base_uri": "https://localhost:8080/"
        },
        "id": "yod-0_OmltLz",
        "outputId": "51ec6ff9-fa4a-452c-c4c8-09cf1a0a5547"
      },
      "execution_count": null,
      "outputs": [
        {
          "output_type": "stream",
          "name": "stderr",
          "text": [
            "/usr/local/lib/python3.10/dist-packages/keras/src/engine/training.py:3103: UserWarning: You are saving your model as an HDF5 file via `model.save()`. This file format is considered legacy. We recommend using instead the native Keras format, e.g. `model.save('my_model.keras')`.\n",
            "  saving_api.save_model(\n"
          ]
        }
      ]
    },
    {
      "cell_type": "code",
      "source": [],
      "metadata": {
        "id": "jjR52rDjB_tn"
      },
      "execution_count": null,
      "outputs": []
    }
  ]
}