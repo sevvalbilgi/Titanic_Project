{
  "nbformat": 4,
  "nbformat_minor": 0,
  "metadata": {
    "colab": {
      "provenance": [],
      "authorship_tag": "ABX9TyMsQ2uLzYPqvURWFE9p1ENb",
      "include_colab_link": true
    },
    "kernelspec": {
      "name": "python3",
      "display_name": "Python 3"
    },
    "language_info": {
      "name": "python"
    }
  },
  "cells": [
    {
      "cell_type": "markdown",
      "metadata": {
        "id": "view-in-github",
        "colab_type": "text"
      },
      "source": [
        "<a href=\"https://colab.research.google.com/github/sevvalbilgi/Titanic_Project/blob/main/titanicwnb.ipynb\" target=\"_parent\"><img src=\"https://colab.research.google.com/assets/colab-badge.svg\" alt=\"Open In Colab\"/></a>"
      ]
    },
    {
      "cell_type": "code",
      "execution_count": null,
      "metadata": {
        "colab": {
          "base_uri": "https://localhost:8080/"
        },
        "id": "Y_nreGW-rLvT",
        "outputId": "0d149c1e-a850-4bb1-89f9-be0981c7788b"
      },
      "outputs": [
        {
          "output_type": "execute_result",
          "data": {
            "text/plain": [
              "0.7757847533632287"
            ]
          },
          "metadata": {},
          "execution_count": 3
        }
      ],
      "source": [
        "#Dataset import ediliyor\n",
        "import pandas as pd\n",
        "titanic = pd.read_csv(\"/content/titanic.csv\")\n",
        "titanic.head()\n",
        "#Kullanılacak olan sütünlar belirleniyor\n",
        "titanic.drop(['PassengerId', 'Name', 'SibSp', 'Parch', 'Ticket', 'Cabin', 'Embarked'], axis='columns',inplace=True)\n",
        "titanic.head()\n",
        "\n",
        "predictors= titanic.drop('Survived', axis= 'columns')\n",
        "target= titanic.Survived\n",
        "#String olan cinsiyet sütünü numeric yapıyoruz\n",
        "predictors['Sex'].replace(['female','male'],[0,1],inplace=True)\n",
        "predictors.head()\n",
        "#Yaş sütününda olan missing value'ları mean ile dolduruluyor\n",
        "predictors.Age=predictors.Age.fillna(predictors.Age.mean())\n",
        "predictors.head()\n",
        "#Dataset ile ilgili olan bütün işlemler bitti. Algoritmayı eğitme aşamasına geçilmekte\n",
        "#Data eğitim ve test verisi olarak ayrılmakta\n",
        "from sklearn.model_selection import train_test_split\n",
        "x_train, x_test, y_train, y_test = train_test_split(predictors, target, test_size= 0.25)\n",
        "#Eğitim ve test verisi olarak ayrılan veri naive bayes algoritması ile denenmekte\n",
        "from sklearn.naive_bayes import GaussianNB\n",
        "model= GaussianNB()\n",
        "model.fit(x_train,y_train)\n",
        "model.score(x_test,y_test)\n"
      ]
    }
  ]
}